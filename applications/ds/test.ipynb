{
 "cells": [
  {
   "cell_type": "code",
   "execution_count": 1,
   "metadata": {},
   "outputs": [],
   "source": [
    "from ds_model import *"
   ]
  },
  {
   "cell_type": "code",
   "execution_count": 2,
   "metadata": {},
   "outputs": [
    {
     "name": "stdout",
     "output_type": "stream",
     "text": [
      "\n",
      "Customer Metrics Summary Statistics:\n",
      "\n",
      "Statistics for frequency:\n",
      "count    0.0\n",
      "mean     NaN\n",
      "std      NaN\n",
      "min      NaN\n",
      "25%      NaN\n",
      "50%      NaN\n",
      "75%      NaN\n",
      "max      NaN\n",
      "Name: frequency, dtype: float64\n",
      "\n",
      "\n",
      "Statistics for total_duration:\n",
      "count       0\n",
      "unique      0\n",
      "top       NaN\n",
      "freq      NaN\n",
      "Name: total_duration, dtype: object\n",
      "\n",
      "\n",
      "Statistics for monetary:\n",
      "count    0.0\n",
      "mean     NaN\n",
      "std      NaN\n",
      "min      NaN\n",
      "25%      NaN\n",
      "50%      NaN\n",
      "75%      NaN\n",
      "max      NaN\n",
      "Name: monetary, dtype: float64\n",
      "\n",
      "\n",
      "Statistics for watched_fully_true:\n",
      "count       0\n",
      "unique      0\n",
      "top       NaN\n",
      "freq      NaN\n",
      "Name: watched_fully_true, dtype: object\n",
      "\n",
      "\n",
      "Statistics for watched_fully_false:\n",
      "count       0\n",
      "unique      0\n",
      "top       NaN\n",
      "freq      NaN\n",
      "Name: watched_fully_false, dtype: object\n",
      "\n",
      "\n",
      "Statistics for liked_count:\n",
      "count       0\n",
      "unique      0\n",
      "top       NaN\n",
      "freq      NaN\n",
      "Name: liked_count, dtype: object\n",
      "\n",
      "\n",
      "Statistics for disliked_count:\n",
      "count       0\n",
      "unique      0\n",
      "top       NaN\n",
      "freq      NaN\n",
      "Name: disliked_count, dtype: object\n",
      "\n",
      "\n",
      "Statistics for no_action_count:\n",
      "count       0\n",
      "unique      0\n",
      "top       NaN\n",
      "freq      NaN\n",
      "Name: no_action_count, dtype: object\n",
      "\n"
     ]
    },
    {
     "data": {
      "text/plain": [
       "{'frequency': count    0.0\n",
       " mean     NaN\n",
       " std      NaN\n",
       " min      NaN\n",
       " 25%      NaN\n",
       " 50%      NaN\n",
       " 75%      NaN\n",
       " max      NaN\n",
       " Name: frequency, dtype: float64,\n",
       " 'total_duration': count       0\n",
       " unique      0\n",
       " top       NaN\n",
       " freq      NaN\n",
       " Name: total_duration, dtype: object,\n",
       " 'monetary': count    0.0\n",
       " mean     NaN\n",
       " std      NaN\n",
       " min      NaN\n",
       " 25%      NaN\n",
       " 50%      NaN\n",
       " 75%      NaN\n",
       " max      NaN\n",
       " Name: monetary, dtype: float64,\n",
       " 'watched_fully_true': count       0\n",
       " unique      0\n",
       " top       NaN\n",
       " freq      NaN\n",
       " Name: watched_fully_true, dtype: object,\n",
       " 'watched_fully_false': count       0\n",
       " unique      0\n",
       " top       NaN\n",
       " freq      NaN\n",
       " Name: watched_fully_false, dtype: object,\n",
       " 'liked_count': count       0\n",
       " unique      0\n",
       " top       NaN\n",
       " freq      NaN\n",
       " Name: liked_count, dtype: object,\n",
       " 'disliked_count': count       0\n",
       " unique      0\n",
       " top       NaN\n",
       " freq      NaN\n",
       " Name: disliked_count, dtype: object,\n",
       " 'no_action_count': count       0\n",
       " unique      0\n",
       " top       NaN\n",
       " freq      NaN\n",
       " Name: no_action_count, dtype: object}"
      ]
     },
     "execution_count": 2,
     "metadata": {},
     "output_type": "execute_result"
    }
   ],
   "source": [
    "compute_customer_statistics()"
   ]
  },
  {
   "cell_type": "code",
   "execution_count": 5,
   "metadata": {},
   "outputs": [
    {
     "name": "stdout",
     "output_type": "stream",
     "text": [
      "Deleted all rows from the customer_segments table.\n",
      "      customer_segment_id  customer_id  segment_id\n",
      "0                       1            1           2\n",
      "1                       2            2           2\n",
      "2                       3            3           4\n",
      "3                       4            4           3\n",
      "4                       5            5           3\n",
      "...                   ...          ...         ...\n",
      "1980                 1981         1996           4\n",
      "1981                 1982         1997           2\n",
      "1982                 1983         1998           2\n",
      "1983                 1984         1999           3\n",
      "1984                 1985         2000           4\n",
      "\n",
      "[1985 rows x 3 columns]\n"
     ]
    }
   ],
   "source": [
    "customer_segments = calculate_customer_segments()\n",
    "print(customer_segments)"
   ]
  },
  {
   "cell_type": "code",
   "execution_count": null,
   "metadata": {},
   "outputs": [],
   "source": []
  },
  {
   "cell_type": "code",
   "execution_count": null,
   "metadata": {},
   "outputs": [],
   "source": []
  },
  {
   "cell_type": "code",
   "execution_count": null,
   "metadata": {},
   "outputs": [],
   "source": []
  }
 ],
 "metadata": {
  "kernelspec": {
   "display_name": "Python 3",
   "language": "python",
   "name": "python3"
  },
  "language_info": {
   "codemirror_mode": {
    "name": "ipython",
    "version": 3
   },
   "file_extension": ".py",
   "mimetype": "text/x-python",
   "name": "python",
   "nbconvert_exporter": "python",
   "pygments_lexer": "ipython3",
   "version": "3.11.5"
  }
 },
 "nbformat": 4,
 "nbformat_minor": 2
}
